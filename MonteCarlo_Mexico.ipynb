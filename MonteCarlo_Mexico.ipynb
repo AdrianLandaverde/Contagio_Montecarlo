{
  "nbformat": 4,
  "nbformat_minor": 0,
  "metadata": {
    "colab": {
      "name": "MonteCarlo_Mexico.ipynb",
      "provenance": [],
      "collapsed_sections": [
        "Y1P9Pw1satia",
        "O4jp6OCOqVAR",
        "X7sSGxa-TFKQ"
      ]
    },
    "kernelspec": {
      "display_name": "Python 3",
      "name": "python3"
    },
    "language_info": {
      "name": "python"
    },
    "accelerator": "GPU"
  },
  "cells": [
    {
      "cell_type": "markdown",
      "metadata": {
        "id": "0GiQ2zODe8DC"
      },
      "source": [
        "# Integrantes\n",
        "\n",
        "\n",
        "\n",
        "*   Adrián Landaverde Nava\n",
        "*   Cristian Gonzaga López\n",
        "*   Sabrina Nicole Rodriguez Salgado\n",
        "*   Naomi Padilla Mora\n",
        "\n"
      ]
    },
    {
      "cell_type": "markdown",
      "metadata": {
        "id": "GmS-ibr2aRYI"
      },
      "source": [
        "# 01. Librerías y Datos iniciales"
      ]
    },
    {
      "cell_type": "code",
      "metadata": {
        "id": "z8zU_erBY1ra"
      },
      "source": [
        "from google.colab import drive\n",
        "drive.mount('/content/drive')"
      ],
      "execution_count": null,
      "outputs": []
    },
    {
      "cell_type": "code",
      "metadata": {
        "id": "zIW_6_ySV7sQ"
      },
      "source": [
        "!pip install geopandas"
      ],
      "execution_count": null,
      "outputs": []
    },
    {
      "cell_type": "code",
      "metadata": {
        "id": "rHxuPkk7WrL-"
      },
      "source": [
        "import geopandas as gpd\n",
        "import pandas as pd\n",
        "import matplotlib.pyplot as plt\n",
        "from matplotlib.pyplot import figure\n",
        "import random\n",
        "from shapely.geometry import Point\n",
        "import math\n",
        "import folium\n",
        "from folium import Marker, GeoJson\n",
        "from folium.plugins import HeatMap\n",
        "from folium.plugins import MarkerCluster\n",
        "from folium import Circle\n",
        "import numpy as np"
      ],
      "execution_count": null,
      "outputs": []
    },
    {
      "cell_type": "code",
      "metadata": {
        "id": "FhkIbpleWvjP"
      },
      "source": [
        "mapa = gpd.read_file(\"/content/drive/MyDrive/Universidad/Tercer Semestre/Modelación con Ecuaciones Diferenciales/México_Estados.shp\")\n",
        "mapa= mapa.sort_values('ESTADO')\n",
        "mapa.head(32)"
      ],
      "execution_count": null,
      "outputs": []
    },
    {
      "cell_type": "code",
      "metadata": {
        "id": "AcoJd8sgYZ1-"
      },
      "source": [
        "poblacion= pd.read_csv(\"/content/drive/MyDrive/Universidad/Tercer Semestre/Modelación con Ecuaciones Diferenciales/poblacionEstados.csv\",encoding=\"latin-1\")\n",
        "poblacion.head()"
      ],
      "execution_count": null,
      "outputs": []
    },
    {
      "cell_type": "code",
      "metadata": {
        "id": "3-U7e6NPcUZU"
      },
      "source": [
        "mapa.index= list(range(0,32))\n",
        "mapa[\"POBLACION\"]=poblacion[\"Ppoblacion\"]\n",
        "mapa.head()"
      ],
      "execution_count": null,
      "outputs": []
    },
    {
      "cell_type": "code",
      "metadata": {
        "id": "LhA47Tx9cunw"
      },
      "source": [
        "mapa.crs = {'init': 'epsg:4326'}"
      ],
      "execution_count": null,
      "outputs": []
    },
    {
      "cell_type": "code",
      "metadata": {
        "id": "gvvU4hybbHt9"
      },
      "source": [
        "from shapely.ops import unary_union\n",
        "mapaMexico = unary_union(mapa[\"geometry\"])\n",
        "print(mapaMexico)\n",
        "mapaMexico"
      ],
      "execution_count": null,
      "outputs": []
    },
    {
      "cell_type": "markdown",
      "metadata": {
        "id": "u5e3W5MzaeAn"
      },
      "source": [
        "# 02. Creación de puntos"
      ]
    },
    {
      "cell_type": "markdown",
      "metadata": {
        "id": "ypFr9bu-alxe"
      },
      "source": [
        "## A) Población distribuida uniformemente"
      ]
    },
    {
      "cell_type": "code",
      "metadata": {
        "id": "iveDrrcqa0CS"
      },
      "source": [
        "def generate_random(number, polygon):\n",
        "    points = []\n",
        "    minx, miny, maxx, maxy = polygon.bounds\n",
        "    while len(points) < number:\n",
        "        pnt = Point(random.uniform(minx, maxx), random.uniform(miny, maxy))\n",
        "        if polygon.contains(pnt):\n",
        "            points.append(pnt)\n",
        "            if(len(points)%10000==0):\n",
        "              print(str(len(points))+\" puntos simulados\")\n",
        "    return points"
      ],
      "execution_count": null,
      "outputs": []
    },
    {
      "cell_type": "code",
      "metadata": {
        "id": "gig68E7Sa2Dn"
      },
      "source": [
        "df_aleatorios= pd.DataFrame(columns=[\"geometry\"])\n",
        "df_aleatorios[\"geometry\"]=generate_random(10000,mapaMexico)\n",
        "df_aleatorios.head()"
      ],
      "execution_count": null,
      "outputs": []
    },
    {
      "cell_type": "code",
      "metadata": {
        "id": "bDIKDHhZdZRq"
      },
      "source": [
        "gdf_aleatorios= gpd.GeoDataFrame(df_aleatorios)\n",
        "gdf_aleatorios['lon'] = gdf_aleatorios.geometry.x\n",
        "gdf_aleatorios['lat'] = gdf_aleatorios.geometry.y\n",
        "gdf_aleatorios.head()"
      ],
      "execution_count": null,
      "outputs": []
    },
    {
      "cell_type": "code",
      "metadata": {
        "id": "uRgmnewIdXub"
      },
      "source": [
        "figure(figsize=(15, 10))\n",
        "plt.scatter(gdf_aleatorios['lon'],gdf_aleatorios['lat'],alpha=0.5,s=3)"
      ],
      "execution_count": null,
      "outputs": []
    },
    {
      "cell_type": "code",
      "metadata": {
        "id": "ISSVqwYMaQQH"
      },
      "source": [
        "gdf_aleatoriosA=gdf_aleatorios"
      ],
      "execution_count": null,
      "outputs": []
    },
    {
      "cell_type": "markdown",
      "metadata": {
        "id": "Y1P9Pw1satia"
      },
      "source": [
        "## B) Población distribuida uniformemente por Estado"
      ]
    },
    {
      "cell_type": "code",
      "metadata": {
        "id": "ykx_cGMPc_cU"
      },
      "source": [
        "def generate_random(number, polygon):\n",
        "    points = []\n",
        "    minx, miny, maxx, maxy = polygon.bounds\n",
        "    while len(points) < number:\n",
        "        pnt = Point(random.uniform(minx, maxx), random.uniform(miny, maxy))\n",
        "        if polygon.contains(pnt):\n",
        "            points.append(pnt)\n",
        "    return points"
      ],
      "execution_count": null,
      "outputs": []
    },
    {
      "cell_type": "code",
      "metadata": {
        "id": "ulWFE5BfdI9Z"
      },
      "source": [
        "df_aleatorios= pd.DataFrame(columns=[\"geometry\"])\n",
        "df_aleatorios\n",
        "for i in range(0,32):\n",
        "  aleatorios= generate_random(round(mapa[\"POBLACION\"][i]/10000),mapa.iloc[i]['geometry'])\n",
        "  df = pd.DataFrame(aleatorios,columns=[\"geometry\"])\n",
        "  df_aleatorios= df_aleatorios.append(df)\n",
        "  print(\"Estados terminados: \"+str(i+1)+ \"   Población Acumulada= \" +str(df_aleatorios.size))\n",
        "print(\"Población Total=\" +str(df_aleatorios.size))\n"
      ],
      "execution_count": null,
      "outputs": []
    },
    {
      "cell_type": "code",
      "metadata": {
        "id": "N-T3Tme2f4aa"
      },
      "source": [
        "gdf_aleatorios= gpd.GeoDataFrame(df_aleatorios)\n",
        "gdf_aleatorios['lon'] = gdf_aleatorios.geometry.x\n",
        "gdf_aleatorios['lat'] = gdf_aleatorios.geometry.y\n",
        "gdf_aleatorios.head()"
      ],
      "execution_count": null,
      "outputs": []
    },
    {
      "cell_type": "code",
      "metadata": {
        "id": "JnBqP1kinXUR"
      },
      "source": [
        "figure(figsize=(15, 10))\n",
        "plt.scatter(gdf_aleatorios['lon'],gdf_aleatorios['lat'],alpha=0.5,s=3)"
      ],
      "execution_count": null,
      "outputs": []
    },
    {
      "cell_type": "code",
      "metadata": {
        "id": "MUfs_8nHaXGk"
      },
      "source": [
        "gdf_aleatoriosB=gdf_aleatorios"
      ],
      "execution_count": null,
      "outputs": []
    },
    {
      "cell_type": "markdown",
      "metadata": {
        "id": "O4jp6OCOqVAR"
      },
      "source": [
        "## C) Ciudades Distribuidas uniformemente"
      ]
    },
    {
      "cell_type": "code",
      "metadata": {
        "id": "59M8MRohqiPb"
      },
      "source": [
        "def generate_random(number, polygon):\n",
        "    points = []\n",
        "    minx, miny, maxx, maxy = polygon.bounds\n",
        "    while len(points) < number:\n",
        "        pnt = Point(random.uniform(minx, maxx), random.uniform(miny, maxy))\n",
        "        if polygon.contains(pnt):\n",
        "            points.append(pnt)\n",
        "    return points"
      ],
      "execution_count": null,
      "outputs": []
    },
    {
      "cell_type": "code",
      "metadata": {
        "id": "qL_CAGW3qnO1"
      },
      "source": [
        "n_ciudades= 500\n",
        "df_aleatorios= pd.DataFrame(columns=[\"geometry\"])\n",
        "df_aleatorios[\"geometry\"]=generate_random(n_ciudades,mapaMexico)\n",
        "df_aleatorios.head()"
      ],
      "execution_count": null,
      "outputs": []
    },
    {
      "cell_type": "code",
      "metadata": {
        "id": "RX-1hq7cqxb6"
      },
      "source": [
        "gdf_aleatorios= gpd.GeoDataFrame(df_aleatorios)\n",
        "gdf_aleatorios['lon'] = gdf_aleatorios.geometry.x\n",
        "gdf_aleatorios['lat'] = gdf_aleatorios.geometry.y\n",
        "gdf_aleatorios.crs = {'init': 'epsg:4326'}\n",
        "gdf_aleatorios.head()"
      ],
      "execution_count": null,
      "outputs": []
    },
    {
      "cell_type": "code",
      "metadata": {
        "id": "8jBCHcngqcFM"
      },
      "source": [
        "radioCiudad= 50 #Kilómetros\n",
        "bufferCiudades = gdf_aleatorios.to_crs(epsg=2272).geometry.buffer(radioCiudad*3280.84)\n",
        "figure(figsize=(15, 10))\n",
        "bufferCiudades.to_crs(epsg=4326).plot()"
      ],
      "execution_count": null,
      "outputs": []
    },
    {
      "cell_type": "code",
      "metadata": {
        "id": "QCYlOfb9LI-t"
      },
      "source": [
        "df_aleatorios2= pd.DataFrame(columns=[\"geometry\"])\n",
        "for i in range(0,n_ciudades):\n",
        "  aleatorios= generate_random(10000/n_ciudades,bufferCiudades[i])\n",
        "  df = pd.DataFrame(aleatorios,columns=[\"geometry\"])\n",
        "  df_aleatorios2= df_aleatorios2.append(df)\n",
        "  if((i+1)%(n_ciudades/10)==0):\n",
        "    print(str((i+1)/(n_ciudades))+\"% completo\")\n",
        "print(\"Población Total=\" +str(df_aleatorios2.size))"
      ],
      "execution_count": null,
      "outputs": []
    },
    {
      "cell_type": "code",
      "metadata": {
        "id": "ggu906AHMtCM"
      },
      "source": [
        "gdf_aleatorios2= gpd.GeoDataFrame(df_aleatorios2)\n",
        "gdf_aleatorios2.crs = {'init': 'epsg:2272'}\n",
        "gdf_aleatorios2= gdf_aleatorios2.to_crs(epsg=4326)\n",
        "gdf_aleatorios2['lon'] = gdf_aleatorios2.geometry.x\n",
        "gdf_aleatorios2['lat'] = gdf_aleatorios2.geometry.y\n",
        "gdf_aleatorios2.head()"
      ],
      "execution_count": null,
      "outputs": []
    },
    {
      "cell_type": "code",
      "metadata": {
        "id": "3ThQUpFbMfAz"
      },
      "source": [
        "figure(figsize=(15, 10))\n",
        "plt.scatter(gdf_aleatorios2['lon'],gdf_aleatorios2['lat'],alpha=0.5,s=3)"
      ],
      "execution_count": null,
      "outputs": []
    },
    {
      "cell_type": "code",
      "metadata": {
        "id": "BLKrdK0RaaDk"
      },
      "source": [
        "gdf_aleatoriosC=gdf_aleatorios2"
      ],
      "execution_count": null,
      "outputs": []
    },
    {
      "cell_type": "markdown",
      "metadata": {
        "id": "X7sSGxa-TFKQ"
      },
      "source": [
        "## D) Ciudades distribuidas uniformemente por Estado"
      ]
    },
    {
      "cell_type": "code",
      "metadata": {
        "id": "ShX4La7_T2bp"
      },
      "source": [
        "def generate_random(number, polygon):\n",
        "    points = []\n",
        "    minx, miny, maxx, maxy = polygon.bounds\n",
        "    while len(points) < number:\n",
        "        pnt = Point(random.uniform(minx, maxx), random.uniform(miny, maxy))\n",
        "        if polygon.contains(pnt):\n",
        "            points.append(pnt)\n",
        "    return points"
      ],
      "execution_count": null,
      "outputs": []
    },
    {
      "cell_type": "code",
      "metadata": {
        "id": "Mc8MBu3yTK9e"
      },
      "source": [
        "poblacionPorCiudad= 20\n",
        "df_aleatorios= pd.DataFrame(columns=[\"geometry\"])\n",
        "df_aleatorios\n",
        "for i in range(0,32):\n",
        "  aleatorios= generate_random(round(mapa[\"POBLACION\"][i]/(10000*poblacionPorCiudad)),mapa.iloc[i]['geometry'])\n",
        "  df = pd.DataFrame(aleatorios,columns=[\"geometry\"])\n",
        "  df_aleatorios= df_aleatorios.append(df)\n",
        "  print(\"Estados terminados: \"+str(i+1)+ \"   Ciudades Acumuladas= \" +str(df_aleatorios.size))\n",
        "print(\"Ciudades Totales=\" +str(df_aleatorios.size))"
      ],
      "execution_count": null,
      "outputs": []
    },
    {
      "cell_type": "code",
      "metadata": {
        "id": "13eSEGhBUkCL"
      },
      "source": [
        "gdf_aleatorios= gpd.GeoDataFrame(df_aleatorios)\n",
        "gdf_aleatorios['lon'] = gdf_aleatorios.geometry.x\n",
        "gdf_aleatorios['lat'] = gdf_aleatorios.geometry.y\n",
        "gdf_aleatorios.crs = {'init': 'epsg:4326'}\n",
        "gdf_aleatorios.head()"
      ],
      "execution_count": null,
      "outputs": []
    },
    {
      "cell_type": "code",
      "metadata": {
        "id": "iqciLmOqYPtz"
      },
      "source": [
        "gdf_aleatorios.index=list(range(0,len(gdf_aleatorios)))"
      ],
      "execution_count": null,
      "outputs": []
    },
    {
      "cell_type": "code",
      "metadata": {
        "id": "R8x3aBVhUl8c"
      },
      "source": [
        "radioCiudad= 50 #Kilómetros\n",
        "bufferCiudades = gdf_aleatorios.to_crs(epsg=2272).geometry.buffer(radioCiudad*3280.84)\n",
        "figure(figsize=(15, 10))\n",
        "bufferCiudades.to_crs(epsg=4326).plot()"
      ],
      "execution_count": null,
      "outputs": []
    },
    {
      "cell_type": "code",
      "metadata": {
        "id": "0BD2dCLDVBhq"
      },
      "source": [
        "df_aleatorios2= pd.DataFrame(columns=[\"geometry\"])\n",
        "for i in range(0,len(bufferCiudades)):\n",
        "  aleatorios= generate_random(poblacionPorCiudad,bufferCiudades[i])\n",
        "  df = pd.DataFrame(aleatorios,columns=[\"geometry\"])\n",
        "  df_aleatorios2= df_aleatorios2.append(df)\n",
        "print(\"Población Total=\" +str(df_aleatorios2.size))"
      ],
      "execution_count": null,
      "outputs": []
    },
    {
      "cell_type": "code",
      "metadata": {
        "id": "qjloT6piZt0n"
      },
      "source": [
        "gdf_aleatorios2= gpd.GeoDataFrame(df_aleatorios2)\n",
        "gdf_aleatorios2.crs = {'init': 'epsg:2272'}\n",
        "gdf_aleatorios2= gdf_aleatorios2.to_crs(epsg=4326)\n",
        "gdf_aleatorios2['lon'] = gdf_aleatorios2.geometry.x\n",
        "gdf_aleatorios2['lat'] = gdf_aleatorios2.geometry.y\n",
        "gdf_aleatorios2.head()"
      ],
      "execution_count": null,
      "outputs": []
    },
    {
      "cell_type": "code",
      "metadata": {
        "id": "IWCLAzdKZx1T"
      },
      "source": [
        "figure(figsize=(15, 10))\n",
        "plt.scatter(gdf_aleatorios2['lon'],gdf_aleatorios2['lat'],alpha=0.5,s=3)"
      ],
      "execution_count": null,
      "outputs": []
    },
    {
      "cell_type": "code",
      "metadata": {
        "id": "o_Rcd51vacgv"
      },
      "source": [
        "gdf_aleatoriosD=gdf_aleatorios2"
      ],
      "execution_count": null,
      "outputs": []
    },
    {
      "cell_type": "markdown",
      "metadata": {
        "id": "TDN_pmVhat8u"
      },
      "source": [
        "# 03. Condiciones iniciales de la Infección"
      ]
    },
    {
      "cell_type": "code",
      "metadata": {
        "id": "Qi98pAlZa5U6"
      },
      "source": [
        "gdf_aleatorioF= gdf_aleatoriosA\n",
        "#gdf_aleatorioF= gdf_aleatoriosB\n",
        "#gdf_aleatorioF= gdf_aleatoriosC\n",
        "#gdf_aleatorioF= gdf_aleatoriosD\n",
        "gdf_aleatorioF.head()"
      ],
      "execution_count": null,
      "outputs": []
    },
    {
      "cell_type": "code",
      "metadata": {
        "id": "mO0nzlDnbQDQ"
      },
      "source": [
        "#Condiciones iniciales:\n",
        "N= len(gdf_aleatorioF)\n",
        "I0  = 1 #número infectados inicial\n",
        "R0 = 0 #número recuperados inicial\n",
        "D0 = 0 #número muertos inicial\n",
        "S0 = N-I0-D0-R0 #Número de susceptibles inicial\n",
        "\n",
        "infection_radius = 0.1  #distancia para decidir si una persona se infecta o no\n",
        "recovery_rate = 0.01\n",
        "death_rate = 0.0001\n",
        "\n",
        "### Definir un array donde aparezca un número de elementos \"susceptible\" igual a S0, un número de elementos \"infected\" igual a I0,\n",
        "### un número de elementos \"recovered\" igual a R0 y un número de elementos \"dead\" igual a D0\n",
        "## Sug.:usar np.repeat()\n",
        "sus= np.repeat(\"suceptible\",S0)\n",
        "inf= np.repeat(\"infected\",I0)\n",
        "rec= np.repeat(\"recovered\",R0)\n",
        "dead= np.repeat(\"dead\",D0)\n",
        "status = np.concatenate((sus,inf,rec,dead))\n",
        "ststaus= random.shuffle(status)\n",
        "\n",
        "### Crear un array de N elementos iguales a 0 (usar np.repeat())\n",
        "#iteration = np.repeat(0,N)\n",
        "### Crear un array de N elementos que contenga valores de 1 a N\n",
        "id = list(range(0,N))"
      ],
      "execution_count": null,
      "outputs": []
    },
    {
      "cell_type": "code",
      "metadata": {
        "id": "mFeJm6SScA_E"
      },
      "source": [
        "gdf_aleatorioF[\"status\"]=status\n",
        "#gdf_aleatorioF[\"iteration\"]=iteration\n",
        "gdf_aleatorioF[\"id\"]=id\n",
        "gdf_aleatorioF.index=gdf_aleatorioF[\"id\"]\n",
        "gdf_aleatorioF=gdf_aleatorioF.drop([\"id\"],axis=1)\n",
        "gdf_aleatorioF.rename(columns={'geometry': 'geometry0', 'lon': 'lon0', 'lat':'lat0','status':'status0'}, inplace=True)\n",
        "gdf_aleatorioF"
      ],
      "execution_count": null,
      "outputs": []
    },
    {
      "cell_type": "code",
      "metadata": {
        "id": "jGSeJJl4jv0K"
      },
      "source": [
        "colors = {'recovered':'green', 'infected':'red', 'dead':'black', 'suceptible':'blue'}\n",
        "sDia = dict(size=30, color='black')\n",
        "sSuceptibles = dict(size=25, color='blue')\n",
        "sInfectados = dict(size=25, color='red')\n",
        "sRecuperados = dict(size=25, color='green')\n",
        "sFallecidos = dict(size=25, color='black')\n",
        "fig, ax = plt.subplots(figsize=(15, 10))\n",
        "ax.scatter(gdf_aleatorioF['lon0'],gdf_aleatorioF['lat0'],c=gdf_aleatorioF[\"status0\"].map(colors),alpha=0.5,s=3)\n",
        "ax.text(-103, 32, (\"Día: 0\"),**sDia)\n",
        "ax.text(-118, 21, (\"Suceptibles: \"+str(S0)),**sSuceptibles)\n",
        "ax.text(-118, 19, (\"Infectados: \"+str(I0)),**sInfectados)\n",
        "ax.text(-118, 17, (\"Recuperados: \"+str(R0)),**sRecuperados)\n",
        "ax.text(-118, 15, (\"Fallecidos: \"+str(D0)),**sFallecidos)\n",
        "ax.set_xlim(-120, -85)\n",
        "ax.set_ylim(14, 34)\n",
        "plt.show()"
      ],
      "execution_count": null,
      "outputs": []
    },
    {
      "cell_type": "code",
      "metadata": {
        "id": "1vX78QuXSZRz"
      },
      "source": [
        "def infec(lonA,latA,lonB,latB):\n",
        "  distancia= np.sqrt(np.power(list(np.array(lonA)-np.array(lonB)),2)+np.power(list(np.array(latA)-np.array(latB)),2))\n",
        "  return ((distancia<infection_radius))"
      ],
      "execution_count": null,
      "outputs": []
    },
    {
      "cell_type": "markdown",
      "metadata": {
        "id": "hbrh3EoKLTsr"
      },
      "source": [
        "# 04. Movimiento Aleatorio"
      ]
    },
    {
      "cell_type": "code",
      "metadata": {
        "id": "7gpCHL6wgdC3"
      },
      "source": [
        "pd.set_option('mode.chained_assignment', None)"
      ],
      "execution_count": null,
      "outputs": []
    },
    {
      "cell_type": "code",
      "metadata": {
        "id": "uAV69YUMLTDA"
      },
      "source": [
        "gdf_aleatorioF['statusN']=gdf_aleatorioF['status0']\n",
        "for i in range(1,51):\n",
        "  # Movimiento Aleatorio\n",
        "  randLon= (np.random.random_sample(size = len(gdf_aleatorioF))-0.5)*0.5\n",
        "  randLat= (np.random.random_sample(size = len(gdf_aleatorioF))-0.5)*0.5\n",
        "  gdf_aleatorioF['lonN']=gdf_aleatorioF['lon0']+randLon\n",
        "  gdf_aleatorioF['latN']=gdf_aleatorioF['lat0']+randLat\n",
        "  \n",
        "\n",
        "  # Recuperación\n",
        "  df_infectados= gdf_aleatorioF[gdf_aleatorioF['statusN'] == \"infected\"]\n",
        "  randRec= (np.random.random_sample(size = len(df_infectados)))\n",
        "  boolsRec=(randRec<recovery_rate)\n",
        "  indicesRec= df_infectados.loc[boolsRec]\n",
        "  indicesRec= indicesRec.index.to_list()\n",
        "  gdf_aleatorioF.loc[indicesRec,[\"statusN\"]]=\"recovered\"\n",
        "\n",
        "  # Fallecimiento\n",
        "  df_infectados= gdf_aleatorioF[gdf_aleatorioF['statusN'] == \"infected\"]\n",
        "  randMuer= (np.random.random_sample(size = len(df_infectados)))\n",
        "  boolsMuer=(randMuer<death_rate)\n",
        "  indicesMuer= df_infectados.loc[boolsMuer]\n",
        "  indicesMuer= indicesMuer.index.to_list()\n",
        "  gdf_aleatorioF.loc[indicesMuer,[\"statusN\"]]=\"dead\"\n",
        "\n",
        "  \n",
        "  # Transmisión de la enfermedad\n",
        "  df_infectados= gdf_aleatorioF[gdf_aleatorioF['statusN'] == \"infected\"]\n",
        "  df_suceptibles= gdf_aleatorioF[gdf_aleatorioF['statusN'] == \"suceptible\"]\n",
        "  for j in df_infectados.index.to_list():\n",
        "    iteracionInf=df_infectados.iloc[df_infectados.index.get_loc(j)]\n",
        "    bools= infec(iteracionInf['lonN'],iteracionInf['latN'],list(df_suceptibles['lonN']),list(df_suceptibles['latN']))\n",
        "    df_suceptibles[\"contagiado\"]=bools\n",
        "    indices= df_suceptibles.loc[bools]\n",
        "    indices= indices.index.to_list()\n",
        "    gdf_aleatorioF.loc[indices,[\"statusN\"]]=\"infected\"\n",
        "  nS= len(gdf_aleatorioF[gdf_aleatorioF[\"statusN\"] == \"suceptible\"])\n",
        "  nI= len(gdf_aleatorioF[gdf_aleatorioF[\"statusN\"] == \"infected\"])\n",
        "  nR= len(gdf_aleatorioF[gdf_aleatorioF[\"statusN\"] == \"recovered\"])\n",
        "  nD= len(gdf_aleatorioF[gdf_aleatorioF[\"statusN\"] == \"dead\"])\n",
        "  fig, ax = plt.subplots(figsize=(15, 10))\n",
        "  ax.scatter(gdf_aleatorioF['lonN'],gdf_aleatorioF['latN'],c=gdf_aleatorioF[\"statusN\"].map(colors),alpha=0.5,s=3)\n",
        "  ax.text(-103, 32, (\"Día: \"+str(i)),**sDia)\n",
        "  ax.text(-118, 21, (\"Suceptibles: \"+str(nS)),**sSuceptibles)\n",
        "  ax.text(-118, 19, (\"Infectados: \"+str(nI)),**sInfectados)\n",
        "  ax.text(-118, 17, (\"Recuperados: \"+str(nR)),**sRecuperados)\n",
        "  ax.text(-118, 15, (\"Fallecidos: \"+str(nD)),**sFallecidos)\n",
        "  ax.set_xlim(-120, -85)\n",
        "  ax.set_ylim(14, 34)\n",
        "  plt.show()\n",
        "\n",
        "\n",
        "\n"
      ],
      "execution_count": null,
      "outputs": []
    },
    {
      "cell_type": "code",
      "metadata": {
        "id": "5pYcZaq4OdxO"
      },
      "source": [
        "for i in range(51,101):\n",
        "  # Movimiento Aleatorio\n",
        "  randLon= (np.random.random_sample(size = len(gdf_aleatorioF))-0.5)*0.5\n",
        "  randLat= (np.random.random_sample(size = len(gdf_aleatorioF))-0.5)*0.5\n",
        "  gdf_aleatorioF['lonN']=gdf_aleatorioF['lon0']+randLon\n",
        "  gdf_aleatorioF['latN']=gdf_aleatorioF['lat0']+randLat\n",
        "  \n",
        "\n",
        "  # Recuperación\n",
        "  df_infectados= gdf_aleatorioF[gdf_aleatorioF['statusN'] == \"infected\"]\n",
        "  randRec= (np.random.random_sample(size = len(df_infectados)))\n",
        "  boolsRec=(randRec<recovery_rate)\n",
        "  indicesRec= df_infectados.loc[boolsRec]\n",
        "  indicesRec= indicesRec.index.to_list()\n",
        "  gdf_aleatorioF.loc[indicesRec,[\"statusN\"]]=\"recovered\"\n",
        "\n",
        "  # Fallecimiento\n",
        "  df_infectados= gdf_aleatorioF[gdf_aleatorioF['statusN'] == \"infected\"]\n",
        "  randMuer= (np.random.random_sample(size = len(df_infectados)))\n",
        "  boolsMuer=(randMuer<death_rate)\n",
        "  indicesMuer= df_infectados.loc[boolsMuer]\n",
        "  indicesMuer= indicesMuer.index.to_list()\n",
        "  gdf_aleatorioF.loc[indicesMuer,[\"statusN\"]]=\"dead\"\n",
        "\n",
        "  \n",
        "  # Transmisión de la enfermedad\n",
        "  df_infectados= gdf_aleatorioF[gdf_aleatorioF['statusN'] == \"infected\"]\n",
        "  df_suceptibles= gdf_aleatorioF[gdf_aleatorioF['statusN'] == \"suceptible\"]\n",
        "  for j in df_infectados.index.to_list():\n",
        "    iteracionInf=df_infectados.iloc[df_infectados.index.get_loc(j)]\n",
        "    bools= infec(iteracionInf['lonN'],iteracionInf['latN'],list(df_suceptibles['lonN']),list(df_suceptibles['latN']))\n",
        "    df_suceptibles[\"contagiado\"]=bools\n",
        "    indices= df_suceptibles.loc[bools]\n",
        "    indices= indices.index.to_list()\n",
        "    gdf_aleatorioF.loc[indices,[\"statusN\"]]=\"infected\"\n",
        "  nS= len(gdf_aleatorioF[gdf_aleatorioF[\"statusN\"] == \"suceptible\"])\n",
        "  nI= len(gdf_aleatorioF[gdf_aleatorioF[\"statusN\"] == \"infected\"])\n",
        "  nR= len(gdf_aleatorioF[gdf_aleatorioF[\"statusN\"] == \"recovered\"])\n",
        "  nD= len(gdf_aleatorioF[gdf_aleatorioF[\"statusN\"] == \"dead\"])\n",
        "  fig, ax = plt.subplots(figsize=(15, 10))\n",
        "  ax.scatter(gdf_aleatorioF['lonN'],gdf_aleatorioF['latN'],c=gdf_aleatorioF[\"statusN\"].map(colors),alpha=0.5,s=3)\n",
        "  ax.text(-103, 32, (\"Día: \"+str(i)),**sDia)\n",
        "  ax.text(-118, 21, (\"Suceptibles: \"+str(nS)),**sSuceptibles)\n",
        "  ax.text(-118, 19, (\"Infectados: \"+str(nI)),**sInfectados)\n",
        "  ax.text(-118, 17, (\"Recuperados: \"+str(nR)),**sRecuperados)\n",
        "  ax.text(-118, 15, (\"Fallecidos: \"+str(nD)),**sFallecidos)\n",
        "  ax.set_xlim(-120, -85)\n",
        "  ax.set_ylim(14, 34)\n",
        "  plt.show()\n"
      ],
      "execution_count": null,
      "outputs": []
    },
    {
      "cell_type": "code",
      "metadata": {
        "id": "YitFc6S2OndE"
      },
      "source": [
        "for i in range(101,151):\n",
        "  # Movimiento Aleatorio\n",
        "  randLon= (np.random.random_sample(size = len(gdf_aleatorioF))-0.5)*0.5\n",
        "  randLat= (np.random.random_sample(size = len(gdf_aleatorioF))-0.5)*0.5\n",
        "  gdf_aleatorioF['lonN']=gdf_aleatorioF['lon0']+randLon\n",
        "  gdf_aleatorioF['latN']=gdf_aleatorioF['lat0']+randLat\n",
        "  \n",
        "\n",
        "  # Recuperación\n",
        "  df_infectados= gdf_aleatorioF[gdf_aleatorioF['statusN'] == \"infected\"]\n",
        "  randRec= (np.random.random_sample(size = len(df_infectados)))\n",
        "  boolsRec=(randRec<recovery_rate)\n",
        "  indicesRec= df_infectados.loc[boolsRec]\n",
        "  indicesRec= indicesRec.index.to_list()\n",
        "  gdf_aleatorioF.loc[indicesRec,[\"statusN\"]]=\"recovered\"\n",
        "\n",
        "  # Fallecimiento\n",
        "  df_infectados= gdf_aleatorioF[gdf_aleatorioF['statusN'] == \"infected\"]\n",
        "  randMuer= (np.random.random_sample(size = len(df_infectados)))\n",
        "  boolsMuer=(randMuer<death_rate)\n",
        "  indicesMuer= df_infectados.loc[boolsMuer]\n",
        "  indicesMuer= indicesMuer.index.to_list()\n",
        "  gdf_aleatorioF.loc[indicesMuer,[\"statusN\"]]=\"dead\"\n",
        "\n",
        "  \n",
        "  # Transmisión de la enfermedad\n",
        "  df_infectados= gdf_aleatorioF[gdf_aleatorioF['statusN'] == \"infected\"]\n",
        "  df_suceptibles= gdf_aleatorioF[gdf_aleatorioF['statusN'] == \"suceptible\"]\n",
        "  for j in df_infectados.index.to_list():\n",
        "    iteracionInf=df_infectados.iloc[df_infectados.index.get_loc(j)]\n",
        "    bools= infec(iteracionInf['lonN'],iteracionInf['latN'],list(df_suceptibles['lonN']),list(df_suceptibles['latN']))\n",
        "    df_suceptibles[\"contagiado\"]=bools\n",
        "    indices= df_suceptibles.loc[bools]\n",
        "    indices= indices.index.to_list()\n",
        "    gdf_aleatorioF.loc[indices,[\"statusN\"]]=\"infected\"\n",
        "  nS= len(gdf_aleatorioF[gdf_aleatorioF[\"statusN\"] == \"suceptible\"])\n",
        "  nI= len(gdf_aleatorioF[gdf_aleatorioF[\"statusN\"] == \"infected\"])\n",
        "  nR= len(gdf_aleatorioF[gdf_aleatorioF[\"statusN\"] == \"recovered\"])\n",
        "  nD= len(gdf_aleatorioF[gdf_aleatorioF[\"statusN\"] == \"dead\"])\n",
        "  fig, ax = plt.subplots(figsize=(15, 10))\n",
        "  ax.scatter(gdf_aleatorioF['lonN'],gdf_aleatorioF['latN'],c=gdf_aleatorioF[\"statusN\"].map(colors),alpha=0.5,s=3)\n",
        "  ax.text(-103, 32, (\"Día: \"+str(i)),**sDia)\n",
        "  ax.text(-118, 21, (\"Suceptibles: \"+str(nS)),**sSuceptibles)\n",
        "  ax.text(-118, 19, (\"Infectados: \"+str(nI)),**sInfectados)\n",
        "  ax.text(-118, 17, (\"Recuperados: \"+str(nR)),**sRecuperados)\n",
        "  ax.text(-118, 15, (\"Fallecidos: \"+str(nD)),**sFallecidos)\n",
        "  ax.set_xlim(-120, -85)\n",
        "  ax.set_ylim(14, 34)\n",
        "  plt.show()"
      ],
      "execution_count": null,
      "outputs": []
    },
    {
      "cell_type": "code",
      "metadata": {
        "id": "9bddUaVtOwJE"
      },
      "source": [
        "for i in range(151,201):\n",
        "  # Movimiento Aleatorio\n",
        "  randLon= (np.random.random_sample(size = len(gdf_aleatorioF))-0.5)*0.5\n",
        "  randLat= (np.random.random_sample(size = len(gdf_aleatorioF))-0.5)*0.5\n",
        "  gdf_aleatorioF['lonN']=gdf_aleatorioF['lon0']+randLon\n",
        "  gdf_aleatorioF['latN']=gdf_aleatorioF['lat0']+randLat\n",
        "  \n",
        "\n",
        "  # Recuperación\n",
        "  df_infectados= gdf_aleatorioF[gdf_aleatorioF['statusN'] == \"infected\"]\n",
        "  randRec= (np.random.random_sample(size = len(df_infectados)))\n",
        "  boolsRec=(randRec<recovery_rate)\n",
        "  indicesRec= df_infectados.loc[boolsRec]\n",
        "  indicesRec= indicesRec.index.to_list()\n",
        "  gdf_aleatorioF.loc[indicesRec,[\"statusN\"]]=\"recovered\"\n",
        "\n",
        "  # Fallecimiento\n",
        "  df_infectados= gdf_aleatorioF[gdf_aleatorioF['statusN'] == \"infected\"]\n",
        "  randMuer= (np.random.random_sample(size = len(df_infectados)))\n",
        "  boolsMuer=(randMuer<death_rate)\n",
        "  indicesMuer= df_infectados.loc[boolsMuer]\n",
        "  indicesMuer= indicesMuer.index.to_list()\n",
        "  gdf_aleatorioF.loc[indicesMuer,[\"statusN\"]]=\"dead\"\n",
        "\n",
        "  \n",
        "  # Transmisión de la enfermedad\n",
        "  df_infectados= gdf_aleatorioF[gdf_aleatorioF['statusN'] == \"infected\"]\n",
        "  df_suceptibles= gdf_aleatorioF[gdf_aleatorioF['statusN'] == \"suceptible\"]\n",
        "  for j in df_infectados.index.to_list():\n",
        "    iteracionInf=df_infectados.iloc[df_infectados.index.get_loc(j)]\n",
        "    bools= infec(iteracionInf['lonN'],iteracionInf['latN'],list(df_suceptibles['lonN']),list(df_suceptibles['latN']))\n",
        "    df_suceptibles[\"contagiado\"]=bools\n",
        "    indices= df_suceptibles.loc[bools]\n",
        "    indices= indices.index.to_list()\n",
        "    gdf_aleatorioF.loc[indices,[\"statusN\"]]=\"infected\"\n",
        "  nS= len(gdf_aleatorioF[gdf_aleatorioF[\"statusN\"] == \"suceptible\"])\n",
        "  nI= len(gdf_aleatorioF[gdf_aleatorioF[\"statusN\"] == \"infected\"])\n",
        "  nR= len(gdf_aleatorioF[gdf_aleatorioF[\"statusN\"] == \"recovered\"])\n",
        "  nD= len(gdf_aleatorioF[gdf_aleatorioF[\"statusN\"] == \"dead\"])\n",
        "  fig, ax = plt.subplots(figsize=(15, 10))\n",
        "  ax.scatter(gdf_aleatorioF['lonN'],gdf_aleatorioF['latN'],c=gdf_aleatorioF[\"statusN\"].map(colors),alpha=0.5,s=3)\n",
        "  ax.text(-103, 32, (\"Día: \"+str(i)),**sDia)\n",
        "  ax.text(-118, 21, (\"Suceptibles: \"+str(nS)),**sSuceptibles)\n",
        "  ax.text(-118, 19, (\"Infectados: \"+str(nI)),**sInfectados)\n",
        "  ax.text(-118, 17, (\"Recuperados: \"+str(nR)),**sRecuperados)\n",
        "  ax.text(-118, 15, (\"Fallecidos: \"+str(nD)),**sFallecidos)\n",
        "  ax.set_xlim(-120, -85)\n",
        "  ax.set_ylim(14, 34)\n",
        "  plt.show()"
      ],
      "execution_count": null,
      "outputs": []
    },
    {
      "cell_type": "code",
      "metadata": {
        "id": "FkFUcxSGiqdm"
      },
      "source": [
        "for i in range(201,251):\n",
        "  # Movimiento Aleatorio\n",
        "  randLon= (np.random.random_sample(size = len(gdf_aleatorioF))-0.5)*0.5\n",
        "  randLat= (np.random.random_sample(size = len(gdf_aleatorioF))-0.5)*0.5\n",
        "  gdf_aleatorioF['lonN']=gdf_aleatorioF['lon0']+randLon\n",
        "  gdf_aleatorioF['latN']=gdf_aleatorioF['lat0']+randLat\n",
        "  \n",
        "\n",
        "  # Recuperación\n",
        "  df_infectados= gdf_aleatorioF[gdf_aleatorioF['statusN'] == \"infected\"]\n",
        "  randRec= (np.random.random_sample(size = len(df_infectados)))\n",
        "  boolsRec=(randRec<recovery_rate)\n",
        "  indicesRec= df_infectados.loc[boolsRec]\n",
        "  indicesRec= indicesRec.index.to_list()\n",
        "  gdf_aleatorioF.loc[indicesRec,[\"statusN\"]]=\"recovered\"\n",
        "\n",
        "  # Fallecimiento\n",
        "  df_infectados= gdf_aleatorioF[gdf_aleatorioF['statusN'] == \"infected\"]\n",
        "  randMuer= (np.random.random_sample(size = len(df_infectados)))\n",
        "  boolsMuer=(randMuer<death_rate)\n",
        "  indicesMuer= df_infectados.loc[boolsMuer]\n",
        "  indicesMuer= indicesMuer.index.to_list()\n",
        "  gdf_aleatorioF.loc[indicesMuer,[\"statusN\"]]=\"dead\"\n",
        "\n",
        "  \n",
        "  # Transmisión de la enfermedad\n",
        "  df_infectados= gdf_aleatorioF[gdf_aleatorioF['statusN'] == \"infected\"]\n",
        "  df_suceptibles= gdf_aleatorioF[gdf_aleatorioF['statusN'] == \"suceptible\"]\n",
        "  for j in df_infectados.index.to_list():\n",
        "    iteracionInf=df_infectados.iloc[df_infectados.index.get_loc(j)]\n",
        "    bools= infec(iteracionInf['lonN'],iteracionInf['latN'],list(df_suceptibles['lonN']),list(df_suceptibles['latN']))\n",
        "    df_suceptibles[\"contagiado\"]=bools\n",
        "    indices= df_suceptibles.loc[bools]\n",
        "    indices= indices.index.to_list()\n",
        "    gdf_aleatorioF.loc[indices,[\"statusN\"]]=\"infected\"\n",
        "  nS= len(gdf_aleatorioF[gdf_aleatorioF[\"statusN\"] == \"suceptible\"])\n",
        "  nI= len(gdf_aleatorioF[gdf_aleatorioF[\"statusN\"] == \"infected\"])\n",
        "  nR= len(gdf_aleatorioF[gdf_aleatorioF[\"statusN\"] == \"recovered\"])\n",
        "  nD= len(gdf_aleatorioF[gdf_aleatorioF[\"statusN\"] == \"dead\"])\n",
        "  fig, ax = plt.subplots(figsize=(15, 10))\n",
        "  ax.scatter(gdf_aleatorioF['lonN'],gdf_aleatorioF['latN'],c=gdf_aleatorioF[\"statusN\"].map(colors),alpha=0.5,s=3)\n",
        "  ax.text(-103, 32, (\"Día: \"+str(i)),**sDia)\n",
        "  ax.text(-118, 21, (\"Suceptibles: \"+str(nS)),**sSuceptibles)\n",
        "  ax.text(-118, 19, (\"Infectados: \"+str(nI)),**sInfectados)\n",
        "  ax.text(-118, 17, (\"Recuperados: \"+str(nR)),**sRecuperados)\n",
        "  ax.text(-118, 15, (\"Fallecidos: \"+str(nD)),**sFallecidos)\n",
        "  ax.set_xlim(-120, -85)\n",
        "  ax.set_ylim(14, 34)\n",
        "  plt.show()"
      ],
      "execution_count": null,
      "outputs": []
    },
    {
      "cell_type": "code",
      "metadata": {
        "id": "gmRzrmzfj_TY"
      },
      "source": [
        "for i in range(251,301):\n",
        "  # Movimiento Aleatorio\n",
        "  randLon= (np.random.random_sample(size = len(gdf_aleatorioF))-0.5)*0.5\n",
        "  randLat= (np.random.random_sample(size = len(gdf_aleatorioF))-0.5)*0.5\n",
        "  gdf_aleatorioF['lonN']=gdf_aleatorioF['lon0']+randLon\n",
        "  gdf_aleatorioF['latN']=gdf_aleatorioF['lat0']+randLat\n",
        "  \n",
        "\n",
        "  # Recuperación\n",
        "  df_infectados= gdf_aleatorioF[gdf_aleatorioF['statusN'] == \"infected\"]\n",
        "  randRec= (np.random.random_sample(size = len(df_infectados)))\n",
        "  boolsRec=(randRec<recovery_rate)\n",
        "  indicesRec= df_infectados.loc[boolsRec]\n",
        "  indicesRec= indicesRec.index.to_list()\n",
        "  gdf_aleatorioF.loc[indicesRec,[\"statusN\"]]=\"recovered\"\n",
        "\n",
        "  # Fallecimiento\n",
        "  df_infectados= gdf_aleatorioF[gdf_aleatorioF['statusN'] == \"infected\"]\n",
        "  randMuer= (np.random.random_sample(size = len(df_infectados)))\n",
        "  boolsMuer=(randMuer<death_rate)\n",
        "  indicesMuer= df_infectados.loc[boolsMuer]\n",
        "  indicesMuer= indicesMuer.index.to_list()\n",
        "  gdf_aleatorioF.loc[indicesMuer,[\"statusN\"]]=\"dead\"\n",
        "\n",
        "  \n",
        "  # Transmisión de la enfermedad\n",
        "  df_infectados= gdf_aleatorioF[gdf_aleatorioF['statusN'] == \"infected\"]\n",
        "  df_suceptibles= gdf_aleatorioF[gdf_aleatorioF['statusN'] == \"suceptible\"]\n",
        "  for j in df_infectados.index.to_list():\n",
        "    iteracionInf=df_infectados.iloc[df_infectados.index.get_loc(j)]\n",
        "    bools= infec(iteracionInf['lonN'],iteracionInf['latN'],list(df_suceptibles['lonN']),list(df_suceptibles['latN']))\n",
        "    df_suceptibles[\"contagiado\"]=bools\n",
        "    indices= df_suceptibles.loc[bools]\n",
        "    indices= indices.index.to_list()\n",
        "    gdf_aleatorioF.loc[indices,[\"statusN\"]]=\"infected\"\n",
        "  nS= len(gdf_aleatorioF[gdf_aleatorioF[\"statusN\"] == \"suceptible\"])\n",
        "  nI= len(gdf_aleatorioF[gdf_aleatorioF[\"statusN\"] == \"infected\"])\n",
        "  nR= len(gdf_aleatorioF[gdf_aleatorioF[\"statusN\"] == \"recovered\"])\n",
        "  nD= len(gdf_aleatorioF[gdf_aleatorioF[\"statusN\"] == \"dead\"])\n",
        "  fig, ax = plt.subplots(figsize=(15, 10))\n",
        "  ax.scatter(gdf_aleatorioF['lonN'],gdf_aleatorioF['latN'],c=gdf_aleatorioF[\"statusN\"].map(colors),alpha=0.5,s=3)\n",
        "  ax.text(-103, 32, (\"Día: \"+str(i)),**sDia)\n",
        "  ax.text(-118, 21, (\"Suceptibles: \"+str(nS)),**sSuceptibles)\n",
        "  ax.text(-118, 19, (\"Infectados: \"+str(nI)),**sInfectados)\n",
        "  ax.text(-118, 17, (\"Recuperados: \"+str(nR)),**sRecuperados)\n",
        "  ax.text(-118, 15, (\"Fallecidos: \"+str(nD)),**sFallecidos)\n",
        "  ax.set_xlim(-120, -85)\n",
        "  ax.set_ylim(14, 34)\n",
        "  plt.show()"
      ],
      "execution_count": null,
      "outputs": []
    },
    {
      "cell_type": "code",
      "metadata": {
        "id": "gJ9FzxAQk8bQ"
      },
      "source": [
        "for i in range(301,366):\n",
        "  # Movimiento Aleatorio\n",
        "  randLon= (np.random.random_sample(size = len(gdf_aleatorioF))-0.5)*0.5\n",
        "  randLat= (np.random.random_sample(size = len(gdf_aleatorioF))-0.5)*0.5\n",
        "  gdf_aleatorioF['lonN']=gdf_aleatorioF['lon0']+randLon\n",
        "  gdf_aleatorioF['latN']=gdf_aleatorioF['lat0']+randLat\n",
        "  \n",
        "\n",
        "  # Recuperación\n",
        "  df_infectados= gdf_aleatorioF[gdf_aleatorioF['statusN'] == \"infected\"]\n",
        "  randRec= (np.random.random_sample(size = len(df_infectados)))\n",
        "  boolsRec=(randRec<recovery_rate)\n",
        "  indicesRec= df_infectados.loc[boolsRec]\n",
        "  indicesRec= indicesRec.index.to_list()\n",
        "  gdf_aleatorioF.loc[indicesRec,[\"statusN\"]]=\"recovered\"\n",
        "\n",
        "  # Fallecimiento\n",
        "  df_infectados= gdf_aleatorioF[gdf_aleatorioF['statusN'] == \"infected\"]\n",
        "  randMuer= (np.random.random_sample(size = len(df_infectados)))\n",
        "  boolsMuer=(randMuer<death_rate)\n",
        "  indicesMuer= df_infectados.loc[boolsMuer]\n",
        "  indicesMuer= indicesMuer.index.to_list()\n",
        "  gdf_aleatorioF.loc[indicesMuer,[\"statusN\"]]=\"dead\"\n",
        "\n",
        "  \n",
        "  # Transmisión de la enfermedad\n",
        "  df_infectados= gdf_aleatorioF[gdf_aleatorioF['statusN'] == \"infected\"]\n",
        "  df_suceptibles= gdf_aleatorioF[gdf_aleatorioF['statusN'] == \"suceptible\"]\n",
        "  for j in df_infectados.index.to_list():\n",
        "    iteracionInf=df_infectados.iloc[df_infectados.index.get_loc(j)]\n",
        "    bools= infec(iteracionInf['lonN'],iteracionInf['latN'],list(df_suceptibles['lonN']),list(df_suceptibles['latN']))\n",
        "    df_suceptibles[\"contagiado\"]=bools\n",
        "    indices= df_suceptibles.loc[bools]\n",
        "    indices= indices.index.to_list()\n",
        "    gdf_aleatorioF.loc[indices,[\"statusN\"]]=\"infected\"\n",
        "  nS= len(gdf_aleatorioF[gdf_aleatorioF[\"statusN\"] == \"suceptible\"])\n",
        "  nI= len(gdf_aleatorioF[gdf_aleatorioF[\"statusN\"] == \"infected\"])\n",
        "  nR= len(gdf_aleatorioF[gdf_aleatorioF[\"statusN\"] == \"recovered\"])\n",
        "  nD= len(gdf_aleatorioF[gdf_aleatorioF[\"statusN\"] == \"dead\"])\n",
        "  fig, ax = plt.subplots(figsize=(15, 10))\n",
        "  ax.scatter(gdf_aleatorioF['lonN'],gdf_aleatorioF['latN'],c=gdf_aleatorioF[\"statusN\"].map(colors),alpha=0.5,s=3)\n",
        "  ax.text(-103, 32, (\"Día: \"+str(i)),**sDia)\n",
        "  ax.text(-118, 21, (\"Suceptibles: \"+str(nS)),**sSuceptibles)\n",
        "  ax.text(-118, 19, (\"Infectados: \"+str(nI)),**sInfectados)\n",
        "  ax.text(-118, 17, (\"Recuperados: \"+str(nR)),**sRecuperados)\n",
        "  ax.text(-118, 15, (\"Fallecidos: \"+str(nD)),**sFallecidos)\n",
        "  ax.set_xlim(-120, -85)\n",
        "  ax.set_ylim(14, 34)\n",
        "  plt.show()"
      ],
      "execution_count": null,
      "outputs": []
    }
  ]
}